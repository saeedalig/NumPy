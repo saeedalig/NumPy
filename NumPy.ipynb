{
  "cells": [
    {
      "cell_type": "markdown",
      "metadata": {
        "id": "view-in-github",
        "colab_type": "text"
      },
      "source": [
        "<a href=\"https://colab.research.google.com/github/saeedalig/NumPy-Tutorials/blob/main/NumPy.ipynb\" target=\"_parent\"><img src=\"https://colab.research.google.com/assets/colab-badge.svg\" alt=\"Open In Colab\"/></a>"
      ]
    },
    {
      "cell_type": "markdown",
      "id": "8e137bf5",
      "metadata": {
        "id": "8e137bf5"
      },
      "source": [
        "## Array"
      ]
    },
    {
      "cell_type": "code",
      "execution_count": null,
      "id": "969dfd53",
      "metadata": {
        "id": "969dfd53"
      },
      "outputs": [],
      "source": [
        "import numpy as np"
      ]
    },
    {
      "cell_type": "code",
      "execution_count": null,
      "id": "cc783dd1",
      "metadata": {
        "id": "cc783dd1",
        "outputId": "cbb1470d-2879-4260-ffe3-f06e1e85f38f"
      },
      "outputs": [
        {
          "name": "stdout",
          "output_type": "stream",
          "text": [
            "[5 6 7]\n",
            "[1 2 3 4 5]\n",
            "<class 'numpy.ndarray'>\n",
            "1\n"
          ]
        }
      ],
      "source": [
        "x = [1,2,3,4,5]\n",
        "y = np.array(x)\n",
        "z = np.array([5,6,7])\n",
        "print(z)\n",
        "print(y)\n",
        "\n",
        "print(type(y))\n",
        "\n",
        "print(y.ndim)"
      ]
    },
    {
      "cell_type": "code",
      "execution_count": null,
      "id": "e911ea21",
      "metadata": {
        "id": "e911ea21",
        "outputId": "61eed694-262f-4880-fccb-09e724a1e866"
      },
      "outputs": [
        {
          "name": "stdout",
          "output_type": "stream",
          "text": [
            "[[1 2 3 4]\n",
            " [5 6 7 8]]\n",
            "dimension is : 2\n"
          ]
        }
      ],
      "source": [
        "two_dim = np.array([[1,2,3,4], [5,6,7,8]])\n",
        "print(two_dim)\n",
        "print('dimension is :',two_dim.ndim)"
      ]
    },
    {
      "cell_type": "code",
      "execution_count": null,
      "id": "0470c870",
      "metadata": {
        "id": "0470c870",
        "outputId": "902aa5e0-5825-4c10-8d8f-b43831d09925"
      },
      "outputs": [
        {
          "name": "stdout",
          "output_type": "stream",
          "text": [
            "[[[1 2 3]\n",
            "  [4 5 6]\n",
            "  [7 8 9]]]\n",
            "dimension is : 3\n"
          ]
        }
      ],
      "source": [
        "three_dim = np.array([[[1,2,3], [4,5,6], [7,8,9]]])\n",
        "print(three_dim)\n",
        "print( 'dimension is :',three_dim.ndim)"
      ]
    },
    {
      "cell_type": "code",
      "execution_count": null,
      "id": "8c007243",
      "metadata": {
        "id": "8c007243",
        "outputId": "e795e237-95b9-4a35-8b1a-6391b9566b70"
      },
      "outputs": [
        {
          "name": "stdout",
          "output_type": "stream",
          "text": [
            "[[[[[1 2 3 4 5]]]]]\n",
            "dimension is : 5\n"
          ]
        }
      ],
      "source": [
        "multi_dim = np.array([1,2,3,4,5], ndmin = 5)\n",
        "print(multi_dim)\n",
        "print('dimension is :',multi_dim.ndim)"
      ]
    },
    {
      "cell_type": "markdown",
      "id": "9bd9c1d8",
      "metadata": {
        "id": "9bd9c1d8"
      },
      "source": [
        "## Zeros"
      ]
    },
    {
      "cell_type": "code",
      "execution_count": null,
      "id": "6436d6bf",
      "metadata": {
        "id": "6436d6bf",
        "outputId": "491d7039-cd46-41fb-aeed-21e8b3f3740a"
      },
      "outputs": [
        {
          "name": "stdout",
          "output_type": "stream",
          "text": [
            "[0. 0. 0. 0.]\n",
            "\n",
            "dimension is : 1\n",
            "-------------------------------------\n",
            "[[0. 0. 0. 0.]\n",
            " [0. 0. 0. 0.]\n",
            " [0. 0. 0. 0.]]\n",
            "\n",
            "dimension is : 2\n"
          ]
        }
      ],
      "source": [
        "zero_1 = np.zeros(4)\n",
        "print(zero_1)\n",
        "print()\n",
        "print('dimension is :', zero_1.ndim)\n",
        "\n",
        "print(\"-------------------------------------\")\n",
        "\n",
        "zero_2 = np.zeros((3,4))\n",
        "print(zero_2)\n",
        "print()\n",
        "print('dimension is :', zero_2.ndim)"
      ]
    },
    {
      "cell_type": "markdown",
      "id": "403ef56c",
      "metadata": {
        "id": "403ef56c"
      },
      "source": [
        "## Ones"
      ]
    },
    {
      "cell_type": "code",
      "execution_count": null,
      "id": "a89d08e8",
      "metadata": {
        "id": "a89d08e8",
        "outputId": "9571489f-271f-4609-a2e8-79e4ff4ad781"
      },
      "outputs": [
        {
          "name": "stdout",
          "output_type": "stream",
          "text": [
            "[1. 1. 1. 1.]\n",
            "\n",
            "dimension is : 1\n",
            "---------------------------------\n",
            "[[1. 1. 1. 1.]\n",
            " [1. 1. 1. 1.]\n",
            " [1. 1. 1. 1.]]\n",
            "\n",
            "dimension is : 2\n"
          ]
        }
      ],
      "source": [
        "one_1 = np.ones(4)\n",
        "print(one_1)\n",
        "print()\n",
        "print('dimension is :',one_1.ndim)\n",
        "\n",
        "print(\"---------------------------------\")\n",
        "\n",
        "one_2 = np.ones((3,4))\n",
        "print(one_2)\n",
        "print()\n",
        "print('dimension is :',one_2.ndim)"
      ]
    },
    {
      "cell_type": "markdown",
      "id": "3acf1201",
      "metadata": {
        "id": "3acf1201"
      },
      "source": [
        "##  Range Array"
      ]
    },
    {
      "cell_type": "code",
      "execution_count": null,
      "id": "54558a8e",
      "metadata": {
        "id": "54558a8e",
        "outputId": "77eabdb8-c39c-4204-fbe5-2cea69274bff"
      },
      "outputs": [
        {
          "name": "stdout",
          "output_type": "stream",
          "text": [
            "[0 1 2 3]\n",
            "1\n"
          ]
        }
      ],
      "source": [
        "ar_range = np.arange(4)\n",
        "print(ar_range)\n",
        "print(ar_range.ndim)"
      ]
    },
    {
      "cell_type": "markdown",
      "id": "49e35edf",
      "metadata": {
        "id": "49e35edf"
      },
      "source": [
        "## Diagonal"
      ]
    },
    {
      "cell_type": "code",
      "execution_count": null,
      "id": "899b5589",
      "metadata": {
        "id": "899b5589",
        "outputId": "58d76514-6faf-4bcd-f893-ebd1e635d14b"
      },
      "outputs": [
        {
          "name": "stdout",
          "output_type": "stream",
          "text": [
            "[[1. 0. 0.]\n",
            " [0. 1. 0.]\n",
            " [0. 0. 1.]]\n",
            "2\n",
            "_________________________\n",
            "[[1. 0. 0. 0.]\n",
            " [0. 1. 0. 0.]\n",
            " [0. 0. 1. 0.]]\n",
            "2\n"
          ]
        }
      ],
      "source": [
        "ar_diag = np.eye(3)\n",
        "print(ar_diag)\n",
        "print(ar_diag.ndim)\n",
        "\n",
        "print(\"_________________________\")\n",
        "\n",
        "\n",
        "ar_diag1 = np.eye(3,4)\n",
        "print(ar_diag1)\n",
        "print(ar_diag1.ndim)\n"
      ]
    },
    {
      "cell_type": "markdown",
      "id": "1574c42b",
      "metadata": {
        "id": "1574c42b"
      },
      "source": [
        "## Linspace"
      ]
    },
    {
      "cell_type": "code",
      "execution_count": null,
      "id": "e4ba8619",
      "metadata": {
        "id": "e4ba8619",
        "outputId": "e1c7f6c3-2d7d-4a48-bcc8-084f7e82775b"
      },
      "outputs": [
        {
          "name": "stdout",
          "output_type": "stream",
          "text": [
            "[ 1.    3.25  5.5   7.75 10.  ]\n",
            "1\n"
          ]
        }
      ],
      "source": [
        "ar_lin = np.linspace(1,10, num=5)\n",
        "print(ar_lin)\n",
        "print(ar_lin.ndim)"
      ]
    },
    {
      "cell_type": "code",
      "execution_count": null,
      "id": "5c7050a4",
      "metadata": {
        "id": "5c7050a4",
        "outputId": "90d3c3f1-bb1a-4588-b958-3506d9a4405b"
      },
      "outputs": [
        {
          "name": "stdout",
          "output_type": "stream",
          "text": [
            "[0.   0.25 0.5  0.75 1.  ]\n",
            "1\n"
          ]
        }
      ],
      "source": [
        "ar_lin = np.linspace(0,1, num=5)\n",
        "print(ar_lin)\n",
        "print(ar_lin.ndim)"
      ]
    },
    {
      "cell_type": "markdown",
      "id": "fdd0ec81",
      "metadata": {
        "id": "fdd0ec81"
      },
      "source": [
        "## Random\n",
        "\n",
        "##### Rand ( value btw 0 t0 1 )"
      ]
    },
    {
      "cell_type": "code",
      "execution_count": null,
      "id": "ca48c401",
      "metadata": {
        "id": "ca48c401",
        "outputId": "11a051d8-7520-4a16-a056-d706a8748ddd"
      },
      "outputs": [
        {
          "name": "stdout",
          "output_type": "stream",
          "text": [
            "[0.39890136 0.54103414 0.74458232 0.53191813 0.65259901]\n",
            "\n",
            "<class 'numpy.ndarray'>\n",
            "\n",
            "dimension is : 1\n"
          ]
        }
      ],
      "source": [
        "ar_rand = np.random.rand(5)             ## Only Positive Value\n",
        "print(ar_rand)\n",
        "print()\n",
        "print(type(ar_rand))\n",
        "print()\n",
        "print('dimension is :',ar_rand.ndim)"
      ]
    },
    {
      "cell_type": "markdown",
      "id": "b5add482",
      "metadata": {
        "id": "b5add482"
      },
      "source": [
        "#### randn ( value close to 0 )"
      ]
    },
    {
      "cell_type": "code",
      "execution_count": null,
      "id": "28509d87",
      "metadata": {
        "id": "28509d87",
        "outputId": "0e0bbbdc-8a03-4476-9784-edb7d50a659e"
      },
      "outputs": [
        {
          "name": "stdout",
          "output_type": "stream",
          "text": [
            "[[ 0.37411376 -0.28806907 -0.28849754 -1.25265786 -0.0828253 ]\n",
            " [ 0.58815895  0.86951342  0.67119527 -1.27693361  0.59361851]\n",
            " [-1.02306061  0.39056554 -1.50797214 -0.87748993 -1.1073127 ]\n",
            " [ 0.61858615  0.99432206 -0.63338268  1.12488093  0.03832182]\n",
            " [-0.65914661  0.66316269 -0.24815538 -0.47698335 -1.25081183]]\n",
            "\n",
            "<class 'numpy.ndarray'>\n",
            "\n",
            "dimension is : 2\n"
          ]
        }
      ],
      "source": [
        "ar_randn = np.random.randn(5,5)  ## value -> Positive & Negative\n",
        "print(ar_randn)\n",
        "print()\n",
        "print(type(ar_randn))\n",
        "print()\n",
        "print('dimension is :',ar_randn.ndim)"
      ]
    },
    {
      "cell_type": "markdown",
      "id": "49493014",
      "metadata": {
        "id": "49493014"
      },
      "source": [
        "#### randint()"
      ]
    },
    {
      "cell_type": "code",
      "execution_count": null,
      "id": "93f35b88",
      "metadata": {
        "id": "93f35b88",
        "outputId": "49baedce-3fd6-4496-e770-567dbbbd6ab0"
      },
      "outputs": [
        {
          "name": "stdout",
          "output_type": "stream",
          "text": [
            "[10 11  7  7  6]\n",
            "1\n"
          ]
        }
      ],
      "source": [
        "rand_int = np.random.randint(5,15,5)      ## (min_no, max_no, total_no to be generated)\n",
        "print(rand_int)\n",
        "print(rand_int.ndim)"
      ]
    },
    {
      "cell_type": "markdown",
      "id": "e5b6c701",
      "metadata": {
        "id": "e5b6c701"
      },
      "source": [
        "### Data Type"
      ]
    },
    {
      "cell_type": "code",
      "execution_count": null,
      "id": "ab14a4a8",
      "metadata": {
        "id": "ab14a4a8",
        "outputId": "5fab7dce-ecf0-43fb-c0e0-84ac1c4b0a0e"
      },
      "outputs": [
        {
          "name": "stdout",
          "output_type": "stream",
          "text": [
            "[1 2 3 5]\n",
            "\n",
            "[1. 2. 3. 5.]\n",
            "\n",
            "['1' '2' '3' '5']\n",
            "\n",
            "[1 2 3 5]\n"
          ]
        }
      ],
      "source": [
        "data_type = np.array([1,2,3,5]) \n",
        "print(data_type)\n",
        "\n",
        "print()\n",
        "\n",
        "data_type1 = np.array([1,2,3,5], dtype = float) \n",
        "print(data_type1)\n",
        "\n",
        "print()\n",
        "\n",
        "data_type2 = np.array([1,2,3,5], dtype = str) \n",
        "print(data_type2)\n",
        "\n",
        "print()\n",
        "\n",
        "data_type3 = np.array([1., 2., 3., 5.], dtype = int)\n",
        "print(data_type3)"
      ]
    },
    {
      "cell_type": "code",
      "execution_count": null,
      "id": "15611f68",
      "metadata": {
        "id": "15611f68",
        "outputId": "d17b0ed7-b647-442c-b430-9076bac5c012"
      },
      "outputs": [
        {
          "name": "stdout",
          "output_type": "stream",
          "text": [
            "[1 2 3 5]\n",
            "[1. 2. 3. 5.]\n"
          ]
        }
      ],
      "source": [
        "data_type = np.array([1,2,3,5]) \n",
        "\n",
        "data_astype = data_type.astype(float)  ### changed into float\n",
        "\n",
        "print(data_type)\n",
        "print(data_astype)"
      ]
    },
    {
      "cell_type": "markdown",
      "id": "f55650b1",
      "metadata": {
        "id": "f55650b1"
      },
      "source": [
        "## Shape & Reshape"
      ]
    },
    {
      "cell_type": "code",
      "execution_count": null,
      "id": "24d1828a",
      "metadata": {
        "id": "24d1828a",
        "outputId": "828ea319-eb95-4146-f481-47c2a7d6a361"
      },
      "outputs": [
        {
          "name": "stdout",
          "output_type": "stream",
          "text": [
            "[[1 2]\n",
            " [1 2]]\n",
            "\n",
            "shape : (2, 2)\n",
            "\n",
            "[[1 2 3 4]\n",
            " [5 6 7 8]]\n",
            "\n",
            "shape : (2, 4)\n",
            "2\n",
            "\n",
            "[[1 2]\n",
            " [3 4]]\n",
            "dimension : 2\n",
            "\n",
            "[1 2 3 4]\n",
            "dimension : 1\n"
          ]
        }
      ],
      "source": [
        "arr = np.array([[1,2],[1,2]])\n",
        "print(arr)\n",
        "\n",
        "print()\n",
        "print('shape :',arr.shape)\n",
        "\n",
        "print()\n",
        "arr1 = np.array([[1,2,3,4],[5,6,7,8]])\n",
        "print(arr1)\n",
        "\n",
        "print()\n",
        "print('shape :',arr1.shape)\n",
        "print(arr1.ndim)\n",
        "\n",
        "print()\n",
        "\n",
        "var = np.array([1,2,3,4])\n",
        "x = var.reshape(2,2)   ## reshaping one_dimensional array into 2D\n",
        "print(x)\n",
        "print('dimension :',x.ndim)\n",
        "\n",
        "print()\n",
        "\n",
        "y = x.reshape(-1)     ## reshaping 2D array into 1D\n",
        "print(y)\n",
        "print('dimension :',y.ndim)"
      ]
    },
    {
      "cell_type": "markdown",
      "id": "784f8ddf",
      "metadata": {
        "id": "784f8ddf"
      },
      "source": [
        "## Arithmetic Operation"
      ]
    },
    {
      "cell_type": "code",
      "execution_count": null,
      "id": "bf0d5b84",
      "metadata": {
        "id": "bf0d5b84",
        "outputId": "39071bcc-b898-4098-d0ac-b9ce50fecbfa"
      },
      "outputs": [
        {
          "name": "stdout",
          "output_type": "stream",
          "text": [
            "[4 5 6 7]\n",
            "\n",
            "[-2 -1  0  1]\n",
            "\n",
            "[0.33333333 0.66666667 1.         1.33333333]\n",
            "\n",
            "[ 3  6  9 12]\n"
          ]
        }
      ],
      "source": [
        "var = np.array([1,2,3,4])\n",
        "var_add = var + 3\n",
        "print(var_add)\n",
        "print()\n",
        "\n",
        "var = np.array([1,2,3,4])\n",
        "var_sub = var - 3\n",
        "print(var_sub)\n",
        "print()\n",
        "\n",
        "var = np.array([1,2,3,4])\n",
        "var_divide = var / 3\n",
        "print(var_divide)\n",
        "print()\n",
        "\n",
        "var = np.array([1,2,3,4])\n",
        "var_multiply = var * 3\n",
        "print(var_multiply)"
      ]
    },
    {
      "cell_type": "code",
      "execution_count": null,
      "id": "bf7ecead",
      "metadata": {
        "id": "bf7ecead",
        "outputId": "4ac9ae0a-7382-4ba3-b382-4c672fd1fb1a"
      },
      "outputs": [
        {
          "name": "stdout",
          "output_type": "stream",
          "text": [
            "[ 4  6  8 10]\n",
            "\n",
            "[ 4  6  8 10]\n",
            "\n",
            "[4 5 6 7]\n"
          ]
        }
      ],
      "source": [
        "var = np.array([1,2,3,4])\n",
        "var1 = np.array([3,4,5,6])\n",
        "new_var = var + var1\n",
        "new_var1 = np.add(var, var1)   ### np.add  adds the variables\n",
        "\n",
        "new_var2 = np.add(var, 3)\n",
        "\n",
        "print(new_var)\n",
        "print()\n",
        "\n",
        "print(new_var1)\n",
        "\n",
        "print()\n",
        "\n",
        "print(new_var2)"
      ]
    },
    {
      "cell_type": "code",
      "execution_count": null,
      "id": "e288e011",
      "metadata": {
        "id": "e288e011",
        "outputId": "f73fefe3-91ae-468b-8b06-7a9eb989416e"
      },
      "outputs": [
        {
          "name": "stdout",
          "output_type": "stream",
          "text": [
            "min : 3\n",
            "\n",
            "max : 8\n",
            "\n",
            "sqrt : [2.44948974 2.         2.82842712 1.73205081]\n"
          ]
        }
      ],
      "source": [
        "ar_min = np.array([6,4,8,3])\n",
        "\n",
        "print(\"min :\", np.min(ar_min))\n",
        "print()\n",
        "\n",
        "print(\"max :\", np.max(ar_min))\n",
        "print()\n",
        "\n",
        "print(\"sqrt :\", np.sqrt(ar_min))"
      ]
    },
    {
      "cell_type": "code",
      "execution_count": null,
      "id": "51f0bfe0",
      "metadata": {
        "id": "51f0bfe0",
        "outputId": "1c81096f-c740-42b9-d5ee-8e77bd16525f"
      },
      "outputs": [
        {
          "name": "stdout",
          "output_type": "stream",
          "text": [
            "[5 6 4]\n",
            "2\n"
          ]
        }
      ],
      "source": [
        "var1 = np.array([[8,9,7], [5,6,4]])   ## axis = 1 --> Row, axis = 0 --> Column\n",
        "\n",
        "print(np.min(var1, axis = 0))\n",
        "print(var1.ndim)\n",
        "\n",
        "\n",
        "# print(\"max :\", np.max(var1, axis = 0)\n",
        "\n",
        "\n",
        "\n"
      ]
    },
    {
      "cell_type": "markdown",
      "id": "67bb19ce",
      "metadata": {
        "id": "67bb19ce"
      },
      "source": [
        "### Indexing "
      ]
    },
    {
      "cell_type": "code",
      "execution_count": null,
      "id": "0e7ef07a",
      "metadata": {
        "id": "0e7ef07a",
        "outputId": "38afeaf7-9ad5-4e34-8edd-e26b30f9e429"
      },
      "outputs": [
        {
          "name": "stdout",
          "output_type": "stream",
          "text": [
            "[6 4 8 3]\n",
            "1\n",
            "\n",
            "8\n",
            "3\n"
          ]
        }
      ],
      "source": [
        "var =  np.array([6,4,8,3])\n",
        "print(var)\n",
        "print(var.ndim)\n",
        "\n",
        "print()\n",
        "\n",
        "print(var[2]) \n",
        "print(var[3])\n"
      ]
    },
    {
      "cell_type": "markdown",
      "id": "6c9cd8c0",
      "metadata": {
        "id": "6c9cd8c0"
      },
      "source": [
        "var =  np.array([6,4,8,3)"
      ]
    },
    {
      "cell_type": "code",
      "execution_count": null,
      "id": "8f88fd20",
      "metadata": {
        "id": "8f88fd20",
        "outputId": "7ce10715-8c9c-48be-f376-4f4b151d156a"
      },
      "outputs": [
        {
          "name": "stdout",
          "output_type": "stream",
          "text": [
            "7\n",
            "\n",
            "9\n",
            "4\n"
          ]
        }
      ],
      "source": [
        "var1 = np.array([[8,9,7], [5,6,4]])   ## 2D\n",
        "print(var1[0,2])\n",
        "print()\n",
        "print(var1[0,1])  ## 0 --> representing index no of [8,9,7]\n",
        "print(var1[1,2])  ## 1 --> representing index no of [5,6,4]"
      ]
    },
    {
      "cell_type": "markdown",
      "id": "55c3e8e1",
      "metadata": {
        "id": "55c3e8e1"
      },
      "source": [
        "## Slicing"
      ]
    },
    {
      "cell_type": "code",
      "execution_count": null,
      "id": "dd1b4b0f",
      "metadata": {
        "id": "dd1b4b0f",
        "outputId": "719458c6-03d7-4985-b564-17daf133bf59"
      },
      "outputs": [
        {
          "name": "stdout",
          "output_type": "stream",
          "text": [
            "[4 8 3 8 6 8]\n",
            "[6]\n",
            "[8 3 8]\n",
            "[6 4 8 3 8 6]\n",
            "[3 8 6]\n",
            "\n",
            "[6 8 8 8]\n",
            "\n",
            "[4 8]\n"
          ]
        }
      ],
      "source": [
        "var =  np.array([6,4,8,3,8,6,8])\n",
        "\n",
        "print(var[1:]) \n",
        "print(var[:1])\n",
        "print(var[2:5])\n",
        "print(var[:-1]) \n",
        "print(var[-4:-1]) \n",
        "print()\n",
        "\n",
        "print(var[::2])  ## one element skipped\n",
        "print()\n",
        "\n",
        "print(var[1:6:3])    ## two element skipped\n"
      ]
    },
    {
      "cell_type": "markdown",
      "id": "68153c94",
      "metadata": {
        "id": "68153c94"
      },
      "source": [
        "## Iteration"
      ]
    },
    {
      "cell_type": "code",
      "execution_count": null,
      "id": "1744d010",
      "metadata": {
        "id": "1744d010",
        "outputId": "ea0625a5-87cb-403e-c29d-b04d4c85a19e"
      },
      "outputs": [
        {
          "name": "stdout",
          "output_type": "stream",
          "text": [
            "6\n",
            "4\n",
            "8\n",
            "3\n",
            "8\n",
            "6\n",
            "8\n"
          ]
        }
      ],
      "source": [
        "var =  np.array([6,4,8,3,8,6,8])\n",
        "\n",
        "for i in var:\n",
        "    print(i)"
      ]
    },
    {
      "cell_type": "code",
      "execution_count": null,
      "id": "3b0bb3a5",
      "metadata": {
        "id": "3b0bb3a5",
        "outputId": "bb190757-266f-4550-ac8f-45039efbb487"
      },
      "outputs": [
        {
          "name": "stdout",
          "output_type": "stream",
          "text": [
            "[8 9 7]\n",
            "[5 6 4]\n",
            "\n",
            "8\n",
            "9\n",
            "7\n",
            "5\n",
            "6\n",
            "4\n",
            "\n",
            "8\n",
            "9\n",
            "7\n",
            "5\n",
            "6\n",
            "4\n"
          ]
        }
      ],
      "source": [
        "var1 = np.array([[8,9,7], [5,6,4]]) \n",
        "\n",
        "for j in var1:\n",
        "    print(j)\n",
        "\n",
        "print()\n",
        "\n",
        "for k in var1:        ## for 2D you need tu use for loop two times , similarly for 3D three times\n",
        "    for l in k:\n",
        "        print(l)\n",
        "        \n",
        "print()\n",
        "\n",
        "for i in np.nditer(var1):     ## np.ndinter() function produces same result (above example)\n",
        "    print(i)"
      ]
    },
    {
      "cell_type": "code",
      "execution_count": null,
      "id": "7b592cf6",
      "metadata": {
        "id": "7b592cf6",
        "outputId": "be856c96-ecd6-42cd-c76e-04c0155223bd"
      },
      "outputs": [
        {
          "name": "stdout",
          "output_type": "stream",
          "text": [
            "b'1'\n",
            "b'2'\n",
            "b'3'\n",
            "b'4'\n",
            "b'5'\n",
            "b'6'\n",
            "b'7'\n",
            "b'8'\n",
            "b'9'\n"
          ]
        }
      ],
      "source": [
        "x = np.array([[[1,2,3],[4,5,6],[7,8,9]]])\n",
        "for i in np.nditer(x, flags = ['buffered'], op_dtypes = ['S']):\n",
        "    print(i)"
      ]
    },
    {
      "cell_type": "code",
      "execution_count": null,
      "id": "4b5c0480",
      "metadata": {
        "id": "4b5c0480",
        "outputId": "291da21f-5e3d-4276-f254-a11b67a160d6"
      },
      "outputs": [
        {
          "name": "stdout",
          "output_type": "stream",
          "text": [
            "(0,) 6\n",
            "(1,) 4\n",
            "(2,) 8\n",
            "(3,) 3\n",
            "(4,) 8\n",
            "(5,) 6\n",
            "(6,) 8\n"
          ]
        }
      ],
      "source": [
        "var =  np.array([6,4,8,3,8,6,8])\n",
        "for i,d in np.ndenumerate(var):     ## np.ndenumerate() gives index no. along with values\n",
        "    print(i,d)"
      ]
    },
    {
      "cell_type": "code",
      "execution_count": null,
      "id": "133812d6",
      "metadata": {
        "id": "133812d6",
        "outputId": "a86be6c5-8058-4070-ea84-b9a7caa33693"
      },
      "outputs": [
        {
          "name": "stdout",
          "output_type": "stream",
          "text": [
            "(0, 0, 0) 1\n",
            "(0, 0, 1) 2\n",
            "(0, 0, 2) 3\n",
            "(0, 1, 0) 4\n",
            "(0, 1, 1) 5\n",
            "(0, 1, 2) 6\n",
            "(0, 2, 0) 7\n",
            "(0, 2, 1) 8\n",
            "(0, 2, 2) 9\n"
          ]
        }
      ],
      "source": [
        "x = np.array([[[1,2,3],[4,5,6],[7,8,9]]])\n",
        "for i,d in np.ndenumerate(x):\n",
        "    print(i,d)"
      ]
    },
    {
      "cell_type": "markdown",
      "id": "cd81d07f",
      "metadata": {
        "id": "cd81d07f"
      },
      "source": [
        "## Copy vs View"
      ]
    },
    {
      "cell_type": "code",
      "execution_count": null,
      "id": "ff34ca35",
      "metadata": {
        "id": "ff34ca35",
        "outputId": "13db238a-4a48-4229-f8ed-21c35bfe4d37"
      },
      "outputs": [
        {
          "name": "stdout",
          "output_type": "stream",
          "text": [
            "var : [ 6 40  8  3]\n",
            "copy : [6 4 8 3]\n"
          ]
        }
      ],
      "source": [
        "var =  np.array([6,4,8,3])\n",
        "var_copy = var.copy()\n",
        "\n",
        "var[1] = 40  ## no changes made in copy data when you modify original data.\n",
        "\n",
        "print(\"var :\", var)\n",
        "print(\"copy :\", var_copy)"
      ]
    },
    {
      "cell_type": "code",
      "execution_count": null,
      "id": "8877b4d7",
      "metadata": {
        "id": "8877b4d7",
        "outputId": "97971ec6-0f32-45ed-fe65-352536ec56f0"
      },
      "outputs": [
        {
          "name": "stdout",
          "output_type": "stream",
          "text": [
            "var : [ 6 40  8  3]\n",
            "view : [ 6 40  8  3]\n"
          ]
        }
      ],
      "source": [
        "var =  np.array([6,4,8,3])\n",
        "var_copy = var.view()\n",
        "\n",
        "var[1] = 40   ## changes made in view data when you modify original data.\n",
        "\n",
        "print(\"var :\", var)\n",
        "print(\"view :\", var_copy)"
      ]
    },
    {
      "cell_type": "markdown",
      "id": "084ee381",
      "metadata": {
        "id": "084ee381"
      },
      "source": [
        "## Join Array"
      ]
    },
    {
      "cell_type": "code",
      "execution_count": null,
      "id": "82c495b0",
      "metadata": {
        "id": "82c495b0",
        "outputId": "e53d0494-439f-4da7-e63f-f5cf2d374a56"
      },
      "outputs": [
        {
          "name": "stdout",
          "output_type": "stream",
          "text": [
            "[6 4 8 3 5 8 9 4]\n"
          ]
        }
      ],
      "source": [
        "x =  np.array([6,4,8,3])\n",
        "y =  np.array([5,8,9,4])\n",
        "\n",
        "concat_xy = np.concatenate((x,y))\n",
        "print(concat_xy)"
      ]
    },
    {
      "cell_type": "code",
      "execution_count": null,
      "id": "f959e545",
      "metadata": {
        "id": "f959e545",
        "outputId": "88b439bd-3cb2-4893-98db-f71c83f2c6f0"
      },
      "outputs": [
        {
          "name": "stdout",
          "output_type": "stream",
          "text": [
            "[[6 4 5 8]\n",
            " [8 3 9 4]]\n",
            "__________________\n",
            "[[6 4]\n",
            " [8 3]\n",
            " [5 8]\n",
            " [9 4]]\n"
          ]
        }
      ],
      "source": [
        "x =  np.array([[6,4],[8,3]])\n",
        "y =  np.array([[5,8],[9,4]])\n",
        "\n",
        "concat_xy = np.concatenate((x,y), axis = 1)  ## joining along row (axis = 1)\n",
        "print(concat_xy)\n",
        "\n",
        "print(\"__________________\")\n",
        "\n",
        "concat_xy = np.concatenate((x,y), axis = 0)  ## joining along column (axis = 0)\n",
        "print(concat_xy)"
      ]
    },
    {
      "cell_type": "code",
      "execution_count": null,
      "id": "949e5460",
      "metadata": {
        "id": "949e5460",
        "outputId": "777888fb-c05c-4717-c9db-8d4c2f6f6acb"
      },
      "outputs": [
        {
          "name": "stdout",
          "output_type": "stream",
          "text": [
            "[[6 4]\n",
            " [8 3]\n",
            " [5 8]\n",
            " [9 4]]\n",
            "\n",
            "[[6 4 5 8]\n",
            " [8 3 9 4]]\n"
          ]
        }
      ],
      "source": [
        "x =  np.array([[6,4],[8,3]])           ## np.concatenate() == np.stack()\n",
        "y =  np.array([[5,8],[9,4]])\n",
        "\n",
        "concat_xy = np.vstack((x,y))     ## vstack--> joining vertically( Column),   dstack--> along height,   \n",
        "concat_xy1 = np.hstack((x,y))     ## vstack--> joining horizentally (Row)\n",
        "print(concat_xy)\n",
        "print()\n",
        "print(concat_xy1)"
      ]
    },
    {
      "cell_type": "markdown",
      "id": "0f6e8043",
      "metadata": {
        "id": "0f6e8043"
      },
      "source": [
        "## Split Array"
      ]
    },
    {
      "cell_type": "code",
      "execution_count": null,
      "id": "d8f836c0",
      "metadata": {
        "id": "d8f836c0",
        "outputId": "50035853-8624-4af2-a231-8fda476d81a4"
      },
      "outputs": [
        {
          "name": "stdout",
          "output_type": "stream",
          "text": [
            "[array([6, 4, 8]), array([3, 8]), array([6, 8])]\n"
          ]
        }
      ],
      "source": [
        "var =  np.array([6,4,8,3,8,6,8])\n",
        "x = np.array_split(var,3)  ### split into 3 arrays\n",
        "print(x)"
      ]
    },
    {
      "cell_type": "code",
      "execution_count": null,
      "id": "7a946108",
      "metadata": {
        "id": "7a946108",
        "outputId": "bd1ab700-0b6b-4910-d309-336355aef2d8"
      },
      "outputs": [
        {
          "name": "stdout",
          "output_type": "stream",
          "text": [
            "[array([[6, 4]]), array([[8, 3]]), array([], shape=(0, 2), dtype=int32), array([], shape=(0, 2), dtype=int32)]\n",
            "----------------------------\n",
            "[array([[6],\n",
            "       [8]]), array([[4],\n",
            "       [3]]), array([], shape=(2, 0), dtype=int32), array([], shape=(2, 0), dtype=int32)]\n"
          ]
        }
      ],
      "source": [
        "x =  np.array([[6,4],[8,3]])\n",
        "y = np.array_split(x,4)\n",
        "print(y)\n",
        "\n",
        "print(\"----------------------------\")\n",
        "\n",
        "y1 = np.array_split(x,4, axis = 1) \n",
        "print(y1)"
      ]
    },
    {
      "cell_type": "markdown",
      "id": "1b5f2429",
      "metadata": {
        "id": "1b5f2429"
      },
      "source": [
        "## Search"
      ]
    },
    {
      "cell_type": "code",
      "execution_count": null,
      "id": "a6f22a58",
      "metadata": {
        "id": "a6f22a58",
        "outputId": "cc998d3d-fd72-4d32-fdff-8704e9335c87"
      },
      "outputs": [
        {
          "name": "stdout",
          "output_type": "stream",
          "text": [
            "(array([ 2,  4,  6, 10], dtype=int64),)\n",
            "\n",
            "(array([ 0,  1,  2,  4,  5,  6,  9, 10], dtype=int64),)\n"
          ]
        }
      ],
      "source": [
        "var =  np.array([6,4,8,3,8,6,8,3,5,6,8])\n",
        "# index          0,1,2,3,4,5,6,7,8,9,10\n",
        "x = np.where(var == 8)                  ## returns index no. of the value\n",
        "print(x)\n",
        "\n",
        "print()\n",
        "\n",
        "x1 = np.where((var%2) == 0)                  ## returns index no. of the value\n",
        "print(x1)"
      ]
    },
    {
      "cell_type": "markdown",
      "id": "0bc20a62",
      "metadata": {
        "id": "0bc20a62"
      },
      "source": [
        "## sort()"
      ]
    },
    {
      "cell_type": "code",
      "execution_count": null,
      "id": "1e7421e8",
      "metadata": {
        "id": "1e7421e8",
        "outputId": "fc983f70-44a0-4b78-c8ad-c424da6e82cb"
      },
      "outputs": [
        {
          "name": "stdout",
          "output_type": "stream",
          "text": [
            "[ 0  2  3  4  5  6  6  8  9 10]\n",
            "\n",
            "[[ 2  3  4  8]\n",
            " [ 0  5  6 10]\n",
            " [ 5  6  8  9]]\n"
          ]
        }
      ],
      "source": [
        "var =  np.array([2,4,8,3,10,6,5,0,6,9])   ## 1D\n",
        "\n",
        "print(np.sort(var))\n",
        "\n",
        "print()\n",
        "\n",
        "var1 =  np.array([[2,4,8,3],[10,6,5,0],[8,5,6,9]])  ## 2D\n",
        "\n",
        "print(np.sort(var1))"
      ]
    },
    {
      "cell_type": "markdown",
      "id": "a5211668",
      "metadata": {
        "id": "a5211668"
      },
      "source": [
        "## Filter Array"
      ]
    },
    {
      "cell_type": "code",
      "execution_count": null,
      "id": "dfce3b4e",
      "metadata": {
        "id": "dfce3b4e",
        "outputId": "1102692e-f96e-4afa-e4e2-83edde0065af"
      },
      "outputs": [
        {
          "name": "stdout",
          "output_type": "stream",
          "text": [
            "[6 8]\n"
          ]
        }
      ],
      "source": [
        "x =  np.array([6,4,8,3])\n",
        "f = [True, False, True, False]\n",
        "y = x[f]\n",
        "print(y)      ## returns only True values"
      ]
    },
    {
      "cell_type": "markdown",
      "id": "5219fc55",
      "metadata": {
        "id": "5219fc55"
      },
      "source": [
        "## Unique"
      ]
    },
    {
      "cell_type": "code",
      "execution_count": null,
      "id": "d958ec80",
      "metadata": {
        "id": "d958ec80",
        "outputId": "7ba84564-ad7d-42a3-8aff-9eba5f8666a8"
      },
      "outputs": [
        {
          "name": "stdout",
          "output_type": "stream",
          "text": [
            "(array([1, 2, 3, 4, 5, 6]), array([0, 1, 2, 5, 3, 4], dtype=int64), array([1, 1, 1, 1, 2, 4], dtype=int64))\n"
          ]
        }
      ],
      "source": [
        "x = np.array([1,2,3,5,6,4,5,6,6,6])\n",
        "y = np.unique(x, return_index=True, return_counts=True)\n",
        "print(y)"
      ]
    },
    {
      "cell_type": "markdown",
      "id": "a6c08df3",
      "metadata": {
        "id": "a6c08df3"
      },
      "source": [
        "## Resize, Flatten, Ravel"
      ]
    },
    {
      "cell_type": "code",
      "execution_count": null,
      "id": "57a0086d",
      "metadata": {
        "id": "57a0086d",
        "outputId": "b216bd48-bc29-459c-9ff0-56734aef148e"
      },
      "outputs": [
        {
          "name": "stdout",
          "output_type": "stream",
          "text": [
            "[[1 2 3]\n",
            " [4 5 6]]\n",
            "\n",
            "flatten : [1 4 2 5 3 6]\n",
            "\n",
            "ravel : [1 4 2 5 3 6]\n"
          ]
        }
      ],
      "source": [
        "x =  np.array([6,4,8,3,6,9])\n",
        "y = np.resize(y,(2,3))    ## converts 1D to 2D\n",
        "print(y)\n",
        "\n",
        "print()\n",
        "\n",
        "print('flatten :',y.flatten(order = \"F\"))  ## flatten and ravel converts 2D array to 1D array\n",
        "print()\n",
        "\n",
        "print('ravel :',y.ravel(order = \"F\"))"
      ]
    },
    {
      "cell_type": "markdown",
      "id": "b84dbf44",
      "metadata": {
        "id": "b84dbf44"
      },
      "source": [
        "## Insert"
      ]
    },
    {
      "cell_type": "code",
      "execution_count": null,
      "id": "6231e157",
      "metadata": {
        "id": "6231e157",
        "outputId": "57db37c2-e75d-4bdf-8ef5-59f75be8e39e"
      },
      "outputs": [
        {
          "name": "stdout",
          "output_type": "stream",
          "text": [
            "[6 4 8 3 6 9]\n",
            "\n",
            "[ 6  4 50  8  3  6  9]\n",
            "\n",
            "[ 6  4 50  8  3 50  6  9]\n"
          ]
        }
      ],
      "source": [
        "x =  np.array([6,4,8,3,6,9])\n",
        "print(x)\n",
        "print()\n",
        "\n",
        "y = np.insert(x, 2,50)   ## at index 2(8) inserted 40\n",
        "print(y)\n",
        "\n",
        "print()\n",
        "\n",
        "y1 = np.insert(x, (2,4) ,50)    ## at index 2 and 4(8,6) inserted 50\n",
        "print(y1)"
      ]
    },
    {
      "cell_type": "code",
      "execution_count": null,
      "id": "43fe051b",
      "metadata": {
        "id": "43fe051b",
        "outputId": "f6b99c54-b229-4dc7-b8e3-89a305434ae7"
      },
      "outputs": [
        {
          "name": "stdout",
          "output_type": "stream",
          "text": [
            "[[6 5 4 8]\n",
            " [3 5 6 9]]\n",
            "\n",
            "[[6 4 8]\n",
            " [5 5 5]\n",
            " [3 6 9]]\n"
          ]
        }
      ],
      "source": [
        "x =  np.array([[6,4,8],[3,6,9]])\n",
        "y = np.insert(x, 1,5, axis= 1)  ## 5,5 inserted in row at index 1\n",
        "print(y)\n",
        "print()\n",
        "\n",
        "y1 = np.insert(x, 1,5, axis= 0)   ## 5,5,5 inserted in column at index 1\n",
        "print(y1)"
      ]
    },
    {
      "cell_type": "markdown",
      "id": "f25222a4",
      "metadata": {
        "id": "f25222a4"
      },
      "source": [
        "## Delete"
      ]
    },
    {
      "cell_type": "code",
      "execution_count": null,
      "id": "4c28f4a6",
      "metadata": {
        "id": "4c28f4a6",
        "outputId": "f5fa5dd5-2417-429f-c479-e92115d43744"
      },
      "outputs": [
        {
          "name": "stdout",
          "output_type": "stream",
          "text": [
            "[6 4 8 3 6 9]\n",
            "[6 4 3 6 9]\n"
          ]
        }
      ],
      "source": [
        "x =  np.array([6,4,8,3,6,9])\n",
        "d = np.delete(x, 2)   ## data deleted of index 2 that's 8\n",
        "print(x)\n",
        "print(d)"
      ]
    },
    {
      "cell_type": "markdown",
      "id": "90a0ca02",
      "metadata": {
        "id": "90a0ca02"
      },
      "source": [
        "## Matrix"
      ]
    },
    {
      "cell_type": "code",
      "execution_count": null,
      "id": "c27f9d4f",
      "metadata": {
        "id": "c27f9d4f",
        "outputId": "519da413-ab1a-4b21-a6db-761d9e4319af"
      },
      "outputs": [
        {
          "name": "stdout",
          "output_type": "stream",
          "text": [
            "[[ 9 12]\n",
            " [ 9 12]]\n"
          ]
        }
      ],
      "source": [
        "x = np.matrix([[1,2], [1,2]])\n",
        "x1 = np.matrix([[3,4], [3,4]])\n",
        "\n",
        "print(x.dot(x1))          ## matrix - not multiplied like array(x*x1)"
      ]
    },
    {
      "cell_type": "code",
      "execution_count": null,
      "id": "23f5e8b8",
      "metadata": {
        "id": "23f5e8b8",
        "outputId": "ddf5545b-aae3-4cbf-d70a-53c78f75db7e"
      },
      "outputs": [
        {
          "name": "stdout",
          "output_type": "stream",
          "text": [
            "[[1 2 3]\n",
            " [4 5 6]]\n",
            "\n",
            "[[1 4]\n",
            " [2 5]\n",
            " [3 6]]\n",
            "\n",
            "[[1 4]\n",
            " [2 5]\n",
            " [3 6]]\n"
          ]
        }
      ],
      "source": [
        "x = np.matrix([[1,2,3], [4,5,6]])\n",
        "print(x)\n",
        "print()\n",
        "\n",
        "print(np.transpose(x))  ## transposed the index(order)\n",
        "print()\n",
        "print(x.T)              ## acts like np.transpose"
      ]
    },
    {
      "cell_type": "code",
      "execution_count": null,
      "id": "7c1f266f",
      "metadata": {
        "id": "7c1f266f",
        "outputId": "3ba020b9-1b30-4fda-9500-3af8082c35bc"
      },
      "outputs": [
        {
          "name": "stdout",
          "output_type": "stream",
          "text": [
            "[[1 3]\n",
            " [4 2]]\n",
            "\n",
            "[[1 4]\n",
            " [3 2]]\n"
          ]
        }
      ],
      "source": [
        "x = np.matrix([[1,3], [4,2]])\n",
        "print(x)\n",
        "print()\n",
        "\n",
        "print(np.swapaxes(x, 0 ,1))  ## row converted to column and coulmn to row"
      ]
    },
    {
      "cell_type": "code",
      "execution_count": null,
      "id": "4da8486f",
      "metadata": {
        "id": "4da8486f",
        "outputId": "cce3ba22-beba-4aab-9ad5-17e013716cec"
      },
      "outputs": [
        {
          "name": "stdout",
          "output_type": "stream",
          "text": [
            "[[1 2]\n",
            " [3 4]]\n",
            "\n",
            "[[-2.   1. ]\n",
            " [ 1.5 -0.5]]\n"
          ]
        }
      ],
      "source": [
        "x = np.matrix([[1,2], [3,4]])\n",
        "print(x)\n",
        "print()\n",
        "\n",
        "print(np.linalg.inv(x))  ## inverse of matrix"
      ]
    },
    {
      "cell_type": "code",
      "execution_count": null,
      "id": "4d10a1ae",
      "metadata": {
        "id": "4d10a1ae",
        "outputId": "03dbf928-bc6b-4197-f27a-e07a5bacde03"
      },
      "outputs": [
        {
          "name": "stdout",
          "output_type": "stream",
          "text": [
            "[[1 2]\n",
            " [3 4]]\n",
            "\n",
            "[[1 0]\n",
            " [0 1]]\n",
            "\n",
            "[[ 7 10]\n",
            " [15 22]]\n",
            "\n",
            "[[ 5.5  -2.5 ]\n",
            " [-3.75  1.75]]\n"
          ]
        }
      ],
      "source": [
        "x = np.matrix([[1,2], [3,4]])\n",
        "print(x)\n",
        "print()\n",
        "\n",
        "print(np.linalg.matrix_power(x,0))  ## always return identity matrix\n",
        "print()\n",
        "\n",
        "print(np.linalg.matrix_power(x,2))\n",
        "print()\n",
        "\n",
        "print(np.linalg.matrix_power(x,-2))\n",
        "                            "
      ]
    },
    {
      "cell_type": "code",
      "execution_count": null,
      "id": "c127bc38",
      "metadata": {
        "id": "c127bc38",
        "outputId": "c7068984-24b7-4096-c59c-c9089445918a"
      },
      "outputs": [
        {
          "name": "stdout",
          "output_type": "stream",
          "text": [
            "[[1 2]\n",
            " [3 4]]\n",
            "\n",
            "-2.0000000000000004\n"
          ]
        }
      ],
      "source": [
        "x = np.matrix([[1,2], [3,4]])\n",
        "print(x)\n",
        "print()\n",
        "\n",
        "print(np.linalg.det(x))  ## determinate"
      ]
    },
    {
      "cell_type": "code",
      "execution_count": null,
      "id": "615df515",
      "metadata": {
        "id": "615df515"
      },
      "outputs": [],
      "source": []
    }
  ],
  "metadata": {
    "kernelspec": {
      "display_name": "Python 3 (ipykernel)",
      "language": "python",
      "name": "python3"
    },
    "language_info": {
      "codemirror_mode": {
        "name": "ipython",
        "version": 3
      },
      "file_extension": ".py",
      "mimetype": "text/x-python",
      "name": "python",
      "nbconvert_exporter": "python",
      "pygments_lexer": "ipython3",
      "version": "3.9.13"
    },
    "colab": {
      "provenance": [],
      "include_colab_link": true
    }
  },
  "nbformat": 4,
  "nbformat_minor": 5
}